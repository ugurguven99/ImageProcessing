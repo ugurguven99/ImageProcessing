{
 "cells": [
  {
   "cell_type": "code",
   "id": "initial_id",
   "metadata": {
    "collapsed": true,
    "ExecuteTime": {
     "end_time": "2024-10-28T08:56:31.608506Z",
     "start_time": "2024-10-28T08:56:17.846577Z"
    }
   },
   "source": [
    "import cv2\n",
    "import numpy as np\n",
    "import matplotlib.pyplot as plt\n",
    "resim = cv2.imread('picture1.jpg')\n",
    "\n",
    "kernel1=np.ones((5,5),np.float32)/30\n",
    "\n",
    "resim1=cv2.filter2D(resim,-1,kernel1)\n",
    "\n",
    "cv2.imshow('Orijinal resim',resim1)\n",
    "cv2.imshow('Kernel Blur',resim1)\n",
    "cv2.waitKey(0)\n",
    "cv2.destroyAllWindows()"
   ],
   "outputs": [],
   "execution_count": 1
  }
 ],
 "metadata": {
  "kernelspec": {
   "display_name": "Python 3",
   "language": "python",
   "name": "python3"
  },
  "language_info": {
   "codemirror_mode": {
    "name": "ipython",
    "version": 2
   },
   "file_extension": ".py",
   "mimetype": "text/x-python",
   "name": "python",
   "nbconvert_exporter": "python",
   "pygments_lexer": "ipython2",
   "version": "2.7.6"
  }
 },
 "nbformat": 4,
 "nbformat_minor": 5
}
