{
 "cells": [
  {
   "cell_type": "code",
   "id": "initial_id",
   "metadata": {
    "collapsed": true,
    "ExecuteTime": {
     "end_time": "2024-10-27T16:05:51.540454Z",
     "start_time": "2024-10-27T16:05:51.418422Z"
    }
   },
   "source": [
    "import cv2\n",
    "import numpy as np"
   ],
   "outputs": [],
   "execution_count": 1
  },
  {
   "metadata": {
    "ExecuteTime": {
     "end_time": "2024-10-27T16:08:12.662313Z",
     "start_time": "2024-10-27T16:06:34.347790Z"
    }
   },
   "cell_type": "code",
   "source": [
    "#VERİ OKUMA YAZMA\n",
    "\n",
    "resim1 = cv2.imread('picture1.jpg')\n",
    "cv2.imshow('Resim',resim1)\n",
    "\n",
    "#resmin boyutunu görmek \n",
    "print(resim1.size)\n",
    "\n",
    "#resmin veri tipi\n",
    "print(resim1.dtype)\n",
    "\n",
    "#resmin genişliği\n",
    "print(resim1.shape)\n",
    "cv2.waitKey(0)\n",
    "cv2.destroyAllWindows()\n"
   ],
   "id": "3a96cd19f884d770",
   "outputs": [
    {
     "name": "stdout",
     "output_type": "stream",
     "text": [
      "150975\n",
      "uint8\n",
      "(183, 275, 3)\n"
     ]
    }
   ],
   "execution_count": 3
  },
  {
   "metadata": {
    "ExecuteTime": {
     "end_time": "2024-10-27T16:40:22.330522Z",
     "start_time": "2024-10-27T16:40:21.335185Z"
    }
   },
   "cell_type": "code",
   "source": [
    "# BİR MATRİS(GÖRÜNTÜ) OLUŞTURMA\n",
    "\n",
    "import numpy as np\n",
    "import cv2\n",
    "import matplotlib.pyplot as plt\n",
    "\n",
    "row=256\n",
    "col=256\n",
    "img=np.zeros((row,col),np.uint8)\n",
    "\n",
    "img[100:105,:]=0.5\n",
    "img[:,100:105]=1\n",
    "plt.figure(figsize=(10,4))\n",
    "plt.imshow(img)\n",
    "plt.show()\n"
   ],
   "id": "ad86984e61fc4d5b",
   "outputs": [
    {
     "data": {
      "text/plain": [
       "<Figure size 1000x400 with 1 Axes>"
      ],
      "image/png": "[encoded data removed]"
     },
     "metadata": {},
     "output_type": "display_data"
    }
   ],
   "execution_count": 5
  },
  {
   "metadata": {
    "ExecuteTime": {
     "end_time": "2024-10-27T17:45:03.328406Z",
     "start_time": "2024-10-27T17:45:03.154515Z"
    }
   },
   "cell_type": "code",
   "source": [
    "#BİNARY GÖRÜNTÜ\n",
    "\n",
    "import numpy as np\n",
    "import cv2\n",
    "\n",
    "height=512\n",
    "width=512\n",
    "img=np.random.randint(255,size=(height,width,3),dtype=np.uint8)\n",
    "cv2.imshow('Binary',img)"
   ],
   "id": "839d8d4f24a403b4",
   "outputs": [],
   "execution_count": 1
  },
  {
   "metadata": {
    "ExecuteTime": {
     "end_time": "2024-10-27T17:48:37.641048Z",
     "start_time": "2024-10-27T17:48:37.635065Z"
    }
   },
   "cell_type": "code",
   "source": [
    "#İNDİSLEME\n",
    "import numpy as np    \n",
    "C=np.array([[1,1,2],[3,5,3],[5,6,9]])\n",
    "s=sum(C[ : ])\n",
    "print(s)\n",
    "a=sum(C)\n",
    "print(a)\n"
   ],
   "id": "67a33fbcb8baea87",
   "outputs": [
    {
     "name": "stdout",
     "output_type": "stream",
     "text": [
      "[ 9 12 14]\n",
      "[ 9 12 14]\n"
     ]
    }
   ],
   "execution_count": 2
  }
 ],
 "metadata": {
  "kernelspec": {
   "display_name": "Python 3",
   "language": "python",
   "name": "python3"
  },
  "language_info": {
   "codemirror_mode": {
    "name": "ipython",
    "version": 2
   },
   "file_extension": ".py",
   "mimetype": "text/x-python",
   "name": "python",
   "nbconvert_exporter": "python",
   "pygments_lexer": "ipython2",
   "version": "2.7.6"
  }
 },
 "nbformat": 4,
 "nbformat_minor": 5
}
